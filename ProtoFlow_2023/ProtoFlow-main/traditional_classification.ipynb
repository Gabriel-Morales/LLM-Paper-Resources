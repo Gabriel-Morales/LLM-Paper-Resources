{
 "cells": [
  {
   "cell_type": "code",
   "execution_count": 1,
   "id": "2839703c-7758-4174-b507-c0bc7ff3bc44",
   "metadata": {},
   "outputs": [
    {
     "name": "stderr",
     "output_type": "stream",
     "text": [
      "C:\\Users\\anon\\AppData\\Local\\Temp\\ipykernel_20852\\1025747582.py:2: FutureWarning: The behavior of array concatenation with empty entries is deprecated. In a future version, this will no longer exclude empty items when determining the result dtype. To retain the old behavior, exclude the empty entries before the concat operation.\n",
      "  TRAINING_INDICES_1_EXAMPLE = TRAINING_INDICES_0_EXAMPLE.append( pd.Index( [ 41032, 425, 405, 48, 106, 39748, 673855, 60, 37 ] ) )\n"
     ]
    }
   ],
   "source": [
    "%run chatgpt_utils.ipynb"
   ]
  },
  {
   "cell_type": "code",
   "execution_count": 29,
   "id": "c83bf31e-3baa-4ee8-87ef-9d874a6ac5f5",
   "metadata": {},
   "outputs": [],
   "source": [
    "from sklearn.preprocessing import OneHotEncoder, StandardScaler\n",
    "from sklearn.base import BaseEstimator, TransformerMixin\n",
    "from sklearn.compose import make_column_transformer\n",
    "from sklearn.neighbors import KNeighborsClassifier\n",
    "from sklearn.ensemble import RandomForestClassifier\n",
    "from sklearn.svm import SVC\n",
    "from sklearn.metrics import classification_report\n",
    "import json"
   ]
  },
  {
   "cell_type": "code",
   "execution_count": 3,
   "id": "d48a81c4-0a03-4f82-8af6-288f583fa0da",
   "metadata": {},
   "outputs": [],
   "source": [
    "common_features = [\n",
    "    'src_oui',\n",
    "    'dst_oui',\n",
    "    'protocol',\n",
    "    'bidirectional_min_ps',\n",
    "    'bidirectional_mean_ps',\n",
    "    'bidirectional_max_ps',\n",
    "    'dst2src_min_ps',\n",
    "    'dst2src_mean_ps',\n",
    "    'dst2src_max_ps',\n",
    "    'src2dst_min_ps',\n",
    "    'src2dst_mean_ps',\n",
    "    'src2dst_max_ps',\n",
    "    'label'\n",
    "]\n",
    "\n",
    "df1_rename_map = {\n",
    "     'bidirectional_bytes' : 'bidirectional_total_bytes',\n",
    "     'bidirectional_duration_ms' : 'bidirectional_total_duration_ms',\n",
    "     'bidirectional_packets': 'bidirectional_total_packets',\n",
    "     'bidirectional_stddev_ps' : 'bidirectional_stdev_ps',\n",
    "     'dst2src_bytes' : 'dst2src_total_bytes',\n",
    "     'dst2src_duration_ms' : 'dst2src_total_duration_ms',\n",
    "     'dst2src_packets' : 'dst2src_total_packets',\n",
    "     'dst2src_stddev_ps' : 'dst2src_stdev_ps',\n",
    "     'src2dst_bytes' : 'src2dst_total_bytes',\n",
    "     'src2dst_duration_ms' : 'src2dst_total_duration_ms',\n",
    "     'src2dst_packets' : 'src2dst_total_packets',\n",
    "     'src2dst_stddev_ps' : 'src2dst_stdev_ps'\n",
    "}\n",
    "\n",
    "df1_extra_features = list( df1_rename_map.keys() )\n",
    "df1_features = common_features + df1_extra_features\n",
    "\n",
    "df2_extra_features = list( df1_rename_map.values() ) + [ \n",
    "    'bidirectional_transmission_rate_byte_ms', \n",
    "    'bidirectional_transmission_rate_ms', \n",
    "    'dst2src_transmission_rate_bytes_ms', \n",
    "    'dst2src_transmission_rate_ms',\n",
    "    'src2dst_transmission_rate_bytes_ms',\n",
    "    'src2dst_transmission_rate_ms'\n",
    "]\n",
    "df2_features = common_features + df2_extra_features\n",
    "df3_features = df2_features\n",
    "df4_features = [ f for f in df2_features if f != 'label' ]\n",
    "\n",
    "all_features = df2_features"
   ]
  },
  {
   "cell_type": "code",
   "execution_count": 4,
   "id": "26130cdb-02bf-4e6f-9ed1-cbb6f8c9da06",
   "metadata": {},
   "outputs": [],
   "source": [
    "unsw_dups_df = pd.read_csv( '../data/csv/unswiotan18_labelled_dups.csv', index_col='entry_id' )\n",
    "unsw_selected_df = pd.read_csv( '../data/csv/unsw_selected.csv', index_col='entry_id' )\n",
    "zbw_selected_df = pd.read_csv( '../data/csv/zbw_selected.csv', index_col='entry_id' )"
   ]
  },
  {
   "cell_type": "code",
   "execution_count": 5,
   "id": "bf8ebb09-0cdc-4325-8662-c6c79b78036d",
   "metadata": {},
   "outputs": [],
   "source": [
    "training_df = unsw_dups_df.loc[TRAINING_INDICES_7_EXAMPLE].drop( 'label', axis=1 )\n",
    "training_df['protocol'] = training_df['protocol'].astype( 'str' )\n",
    "training_labels = unsw_dups_df.loc[TRAINING_INDICES_7_EXAMPLE]['label']"
   ]
  },
  {
   "cell_type": "code",
   "execution_count": 6,
   "id": "21a19e83-07da-4ae5-896d-a16e1ab375df",
   "metadata": {},
   "outputs": [],
   "source": [
    "unsw_testing_df = unsw_selected_df.drop( 'label', axis=1 )\n",
    "unsw_testing_df['protocol'] = unsw_testing_df['protocol'].astype( 'str' )\n",
    "unsw_testing_labels = unsw_selected_df['label']\n",
    "\n",
    "zbw_testing_df = zbw_selected_df.drop( 'label', axis=1 )\n",
    "zbw_testing_labels = zbw_selected_df['label']"
   ]
  },
  {
   "cell_type": "code",
   "execution_count": 7,
   "id": "3956b42f-6dc1-484a-b495-5988cdf43c1e",
   "metadata": {},
   "outputs": [],
   "source": [
    "ouis = pd.concat( [ unsw_dups_df['src_oui'], unsw_dups_df['dst_oui'], zbw_selected_df['src_oui'], zbw_selected_df['dst_oui'] ] ).drop_duplicates().to_numpy().reshape( -1, 1 )\n",
    "labels = unsw_dups_df['label'].drop_duplicates().to_numpy().reshape( -1, 1 )\n",
    "protocols = pd.concat( [ unsw_dups_df['protocol'].astype( 'str' ), zbw_selected_df['protocol'] ] ).drop_duplicates().to_numpy().reshape( -1, 1 ) \n",
    "\n",
    "ouiOHE = OneHotEncoder( handle_unknown='ignore' )\n",
    "labelOHE = OneHotEncoder( handle_unknown='ignore' )\n",
    "protocolOHE = OneHotEncoder( handle_unknown='ignore' )\n",
    "\n",
    "ouiOHE.fit( ouis )\n",
    "labelOHE.fit( labels )\n",
    "protocolOHE.fit( protocols )\n",
    "\n",
    "class OuiOHE( BaseEstimator, TransformerMixin ):\n",
    "    def transform( self, X, y=None ):\n",
    "        global ouiOHE\n",
    "        return ouiOHE.transform( X )\n",
    "    \n",
    "    def fit( self, X, y=None ):\n",
    "        return self\n",
    "\n",
    "class LabelOHE( BaseEstimator, TransformerMixin ):\n",
    "    def transform( self, X, y=None ):\n",
    "        global labelOHE\n",
    "        return labelOHE.transform( X )\n",
    "    \n",
    "    def fit( self, X, y=None ):\n",
    "        return self\n",
    "\n",
    "class ProtocolOHE( BaseEstimator, TransformerMixin ):\n",
    "    def transform( self, X, y=None ):\n",
    "        global protocolOHE\n",
    "        return protocolOHE.transform( X )\n",
    "    \n",
    "    def fit( self, X, y=None ):\n",
    "        return self"
   ]
  },
  {
   "cell_type": "code",
   "execution_count": 8,
   "id": "5781fa14-a960-4762-a1ca-7c980e274352",
   "metadata": {},
   "outputs": [],
   "source": [
    "col_transformer = make_column_transformer(\n",
    "    ( OuiOHE(), [ 'src_oui' ] ),\n",
    "    ( OuiOHE(), [ 'dst_oui' ] ),\n",
    "    ( ProtocolOHE(), [ 'protocol' ] ),\n",
    "    ( StandardScaler(), [ col for col in all_features if col not in { 'src_oui', 'dst_oui', 'protocol', 'label' } ] ),\n",
    "    remainder='passthrough'\n",
    ")"
   ]
  },
  {
   "cell_type": "code",
   "execution_count": 9,
   "id": "94004a3b-c592-4660-8fb0-95ea2bf79e8d",
   "metadata": {},
   "outputs": [
    {
     "name": "stderr",
     "output_type": "stream",
     "text": [
      "D:\\anaconda3\\envs\\iotResearchEnv\\Lib\\site-packages\\sklearn\\base.py:458: UserWarning: X has feature names, but OneHotEncoder was fitted without feature names\n",
      "  warnings.warn(\n",
      "D:\\anaconda3\\envs\\iotResearchEnv\\Lib\\site-packages\\sklearn\\base.py:458: UserWarning: X has feature names, but OneHotEncoder was fitted without feature names\n",
      "  warnings.warn(\n",
      "D:\\anaconda3\\envs\\iotResearchEnv\\Lib\\site-packages\\sklearn\\base.py:458: UserWarning: X has feature names, but OneHotEncoder was fitted without feature names\n",
      "  warnings.warn(\n",
      "D:\\anaconda3\\envs\\iotResearchEnv\\Lib\\site-packages\\sklearn\\base.py:458: UserWarning: X has feature names, but OneHotEncoder was fitted without feature names\n",
      "  warnings.warn(\n",
      "D:\\anaconda3\\envs\\iotResearchEnv\\Lib\\site-packages\\sklearn\\base.py:458: UserWarning: X has feature names, but OneHotEncoder was fitted without feature names\n",
      "  warnings.warn(\n",
      "D:\\anaconda3\\envs\\iotResearchEnv\\Lib\\site-packages\\sklearn\\base.py:458: UserWarning: X has feature names, but OneHotEncoder was fitted without feature names\n",
      "  warnings.warn(\n",
      "D:\\anaconda3\\envs\\iotResearchEnv\\Lib\\site-packages\\sklearn\\base.py:458: UserWarning: X has feature names, but OneHotEncoder was fitted without feature names\n",
      "  warnings.warn(\n",
      "D:\\anaconda3\\envs\\iotResearchEnv\\Lib\\site-packages\\sklearn\\base.py:458: UserWarning: X has feature names, but OneHotEncoder was fitted without feature names\n",
      "  warnings.warn(\n",
      "D:\\anaconda3\\envs\\iotResearchEnv\\Lib\\site-packages\\sklearn\\base.py:458: UserWarning: X has feature names, but OneHotEncoder was fitted without feature names\n",
      "  warnings.warn(\n"
     ]
    }
   ],
   "source": [
    "X_train = col_transformer.fit_transform( training_df )\n",
    "y_train = training_labels\n",
    "\n",
    "X_test_unsw = col_transformer.transform( unsw_testing_df )\n",
    "y_test_unsw = unsw_testing_labels\n",
    "\n",
    "X_test_zbw = col_transformer.transform( zbw_testing_df )\n",
    "y_test_zbw = zbw_testing_labels"
   ]
  },
  {
   "cell_type": "code",
   "execution_count": 10,
   "id": "482d8341-7450-42e8-b7e5-dc0d48b45256",
   "metadata": {},
   "outputs": [
    {
     "name": "stdout",
     "output_type": "stream",
     "text": [
      "(63, 140)\n",
      "(63,)\n",
      "\n",
      "(1023, 140)\n",
      "(1023,)\n",
      "\n",
      "(1012, 140)\n",
      "(1012,)\n"
     ]
    }
   ],
   "source": [
    "print( X_train.shape )\n",
    "print( y_train.shape )\n",
    "print()\n",
    "\n",
    "print( X_test_unsw.shape )\n",
    "print( y_test_unsw.shape )\n",
    "print()\n",
    "\n",
    "print( X_test_zbw.shape )\n",
    "print( y_test_zbw.shape )"
   ]
  },
  {
   "cell_type": "code",
   "execution_count": 17,
   "id": "f0f8d2c0-3ecf-4cb0-b232-b7a8d9331cde",
   "metadata": {},
   "outputs": [],
   "source": [
    "knn = KNeighborsClassifier()\n",
    "knn.fit( X_train, y_train )\n",
    "y_pred_unsw_knn = knn.predict( X_test_unsw )\n",
    "y_pred_zbw_knn = knn.predict( X_test_zbw )"
   ]
  },
  {
   "cell_type": "code",
   "execution_count": 18,
   "id": "c99b5210-e2bf-42c9-adf9-0064f82364d6",
   "metadata": {},
   "outputs": [],
   "source": [
    "rf = RandomForestClassifier()\n",
    "rf.fit( X_train, y_train )\n",
    "y_pred_unsw_rf = rf.predict( X_test_unsw )\n",
    "y_pred_zbw_rf = rf.predict( X_test_zbw )"
   ]
  },
  {
   "cell_type": "code",
   "execution_count": 19,
   "id": "602cffdf-9dcf-468b-8db8-770260aec6d2",
   "metadata": {},
   "outputs": [],
   "source": [
    "svc = SVC()\n",
    "svc.fit( X_train, y_train )\n",
    "y_pred_unsw_svc = svc.predict( X_test_unsw )\n",
    "y_pred_zbw_svc = svc.predict( X_test_zbw )"
   ]
  },
  {
   "cell_type": "code",
   "execution_count": 30,
   "id": "63810a79-65c4-49b7-afc3-d3d7ac1985ac",
   "metadata": {},
   "outputs": [],
   "source": [
    "dict1 = classification_report( y_test_unsw, y_pred_unsw_knn, output_dict=True )\n",
    "\n",
    "with open( '../data/json/report_knn_7_examples_unsw.json', 'w' ) as f:\n",
    "    json.dump( dict1, f, indent=4 )"
   ]
  },
  {
   "cell_type": "code",
   "execution_count": 31,
   "id": "9275b1e0-f8d3-454f-b300-633c21632847",
   "metadata": {},
   "outputs": [],
   "source": [
    "dict2 = classification_report( y_test_unsw, y_pred_unsw_rf, output_dict=True )\n",
    "\n",
    "with open( '../data/json/report_rf_7_examples_unsw.json', 'w' ) as f:\n",
    "    json.dump( dict2, f, indent=4 )"
   ]
  },
  {
   "cell_type": "code",
   "execution_count": 32,
   "id": "98f3b723-35a7-4fad-b2ba-3ce89a08ada7",
   "metadata": {},
   "outputs": [],
   "source": [
    "dict3 = classification_report( y_test_unsw, y_pred_unsw_svc, output_dict=True )\n",
    "\n",
    "with open( '../data/json/report_svc_7_examples_unsw.json', 'w' ) as f:\n",
    "    json.dump( dict3, f, indent=4 )"
   ]
  },
  {
   "cell_type": "code",
   "execution_count": 33,
   "id": "92875bca-dc2d-47b2-a7bd-3aeb9fd5d82c",
   "metadata": {},
   "outputs": [
    {
     "name": "stderr",
     "output_type": "stream",
     "text": [
      "D:\\anaconda3\\envs\\iotResearchEnv\\Lib\\site-packages\\sklearn\\metrics\\_classification.py:1469: UndefinedMetricWarning: Precision and F-score are ill-defined and being set to 0.0 in labels with no predicted samples. Use `zero_division` parameter to control this behavior.\n",
      "  _warn_prf(average, modifier, msg_start, len(result))\n",
      "D:\\anaconda3\\envs\\iotResearchEnv\\Lib\\site-packages\\sklearn\\metrics\\_classification.py:1469: UndefinedMetricWarning: Recall and F-score are ill-defined and being set to 0.0 in labels with no true samples. Use `zero_division` parameter to control this behavior.\n",
      "  _warn_prf(average, modifier, msg_start, len(result))\n",
      "D:\\anaconda3\\envs\\iotResearchEnv\\Lib\\site-packages\\sklearn\\metrics\\_classification.py:1469: UndefinedMetricWarning: Precision and F-score are ill-defined and being set to 0.0 in labels with no predicted samples. Use `zero_division` parameter to control this behavior.\n",
      "  _warn_prf(average, modifier, msg_start, len(result))\n",
      "D:\\anaconda3\\envs\\iotResearchEnv\\Lib\\site-packages\\sklearn\\metrics\\_classification.py:1469: UndefinedMetricWarning: Recall and F-score are ill-defined and being set to 0.0 in labels with no true samples. Use `zero_division` parameter to control this behavior.\n",
      "  _warn_prf(average, modifier, msg_start, len(result))\n",
      "D:\\anaconda3\\envs\\iotResearchEnv\\Lib\\site-packages\\sklearn\\metrics\\_classification.py:1469: UndefinedMetricWarning: Precision and F-score are ill-defined and being set to 0.0 in labels with no predicted samples. Use `zero_division` parameter to control this behavior.\n",
      "  _warn_prf(average, modifier, msg_start, len(result))\n",
      "D:\\anaconda3\\envs\\iotResearchEnv\\Lib\\site-packages\\sklearn\\metrics\\_classification.py:1469: UndefinedMetricWarning: Recall and F-score are ill-defined and being set to 0.0 in labels with no true samples. Use `zero_division` parameter to control this behavior.\n",
      "  _warn_prf(average, modifier, msg_start, len(result))\n"
     ]
    }
   ],
   "source": [
    "dict4 = classification_report( y_test_zbw, y_pred_zbw_knn, output_dict=True )\n",
    "\n",
    "with open( '../data/json/report_knn_7_examples_zbw.json', 'w' ) as f:\n",
    "    json.dump( dict4, f, indent=4 )"
   ]
  },
  {
   "cell_type": "code",
   "execution_count": 34,
   "id": "7b7f5012-38ce-403c-ab2f-f5ca273af983",
   "metadata": {},
   "outputs": [
    {
     "name": "stderr",
     "output_type": "stream",
     "text": [
      "D:\\anaconda3\\envs\\iotResearchEnv\\Lib\\site-packages\\sklearn\\metrics\\_classification.py:1469: UndefinedMetricWarning: Precision and F-score are ill-defined and being set to 0.0 in labels with no predicted samples. Use `zero_division` parameter to control this behavior.\n",
      "  _warn_prf(average, modifier, msg_start, len(result))\n",
      "D:\\anaconda3\\envs\\iotResearchEnv\\Lib\\site-packages\\sklearn\\metrics\\_classification.py:1469: UndefinedMetricWarning: Recall and F-score are ill-defined and being set to 0.0 in labels with no true samples. Use `zero_division` parameter to control this behavior.\n",
      "  _warn_prf(average, modifier, msg_start, len(result))\n",
      "D:\\anaconda3\\envs\\iotResearchEnv\\Lib\\site-packages\\sklearn\\metrics\\_classification.py:1469: UndefinedMetricWarning: Precision and F-score are ill-defined and being set to 0.0 in labels with no predicted samples. Use `zero_division` parameter to control this behavior.\n",
      "  _warn_prf(average, modifier, msg_start, len(result))\n",
      "D:\\anaconda3\\envs\\iotResearchEnv\\Lib\\site-packages\\sklearn\\metrics\\_classification.py:1469: UndefinedMetricWarning: Recall and F-score are ill-defined and being set to 0.0 in labels with no true samples. Use `zero_division` parameter to control this behavior.\n",
      "  _warn_prf(average, modifier, msg_start, len(result))\n",
      "D:\\anaconda3\\envs\\iotResearchEnv\\Lib\\site-packages\\sklearn\\metrics\\_classification.py:1469: UndefinedMetricWarning: Precision and F-score are ill-defined and being set to 0.0 in labels with no predicted samples. Use `zero_division` parameter to control this behavior.\n",
      "  _warn_prf(average, modifier, msg_start, len(result))\n",
      "D:\\anaconda3\\envs\\iotResearchEnv\\Lib\\site-packages\\sklearn\\metrics\\_classification.py:1469: UndefinedMetricWarning: Recall and F-score are ill-defined and being set to 0.0 in labels with no true samples. Use `zero_division` parameter to control this behavior.\n",
      "  _warn_prf(average, modifier, msg_start, len(result))\n"
     ]
    }
   ],
   "source": [
    "dict5 = classification_report( y_test_zbw, y_pred_zbw_rf, output_dict=True )\n",
    "\n",
    "with open( '../data/json/report_rf_7_examples_zbw.json', 'w' ) as f:\n",
    "    json.dump( dict5, f, indent=4 )"
   ]
  },
  {
   "cell_type": "code",
   "execution_count": 35,
   "id": "22c17a5d-9c90-4571-bbf0-c22a764e17b1",
   "metadata": {},
   "outputs": [
    {
     "name": "stderr",
     "output_type": "stream",
     "text": [
      "D:\\anaconda3\\envs\\iotResearchEnv\\Lib\\site-packages\\sklearn\\metrics\\_classification.py:1469: UndefinedMetricWarning: Precision and F-score are ill-defined and being set to 0.0 in labels with no predicted samples. Use `zero_division` parameter to control this behavior.\n",
      "  _warn_prf(average, modifier, msg_start, len(result))\n",
      "D:\\anaconda3\\envs\\iotResearchEnv\\Lib\\site-packages\\sklearn\\metrics\\_classification.py:1469: UndefinedMetricWarning: Recall and F-score are ill-defined and being set to 0.0 in labels with no true samples. Use `zero_division` parameter to control this behavior.\n",
      "  _warn_prf(average, modifier, msg_start, len(result))\n",
      "D:\\anaconda3\\envs\\iotResearchEnv\\Lib\\site-packages\\sklearn\\metrics\\_classification.py:1469: UndefinedMetricWarning: Precision and F-score are ill-defined and being set to 0.0 in labels with no predicted samples. Use `zero_division` parameter to control this behavior.\n",
      "  _warn_prf(average, modifier, msg_start, len(result))\n",
      "D:\\anaconda3\\envs\\iotResearchEnv\\Lib\\site-packages\\sklearn\\metrics\\_classification.py:1469: UndefinedMetricWarning: Recall and F-score are ill-defined and being set to 0.0 in labels with no true samples. Use `zero_division` parameter to control this behavior.\n",
      "  _warn_prf(average, modifier, msg_start, len(result))\n",
      "D:\\anaconda3\\envs\\iotResearchEnv\\Lib\\site-packages\\sklearn\\metrics\\_classification.py:1469: UndefinedMetricWarning: Precision and F-score are ill-defined and being set to 0.0 in labels with no predicted samples. Use `zero_division` parameter to control this behavior.\n",
      "  _warn_prf(average, modifier, msg_start, len(result))\n",
      "D:\\anaconda3\\envs\\iotResearchEnv\\Lib\\site-packages\\sklearn\\metrics\\_classification.py:1469: UndefinedMetricWarning: Recall and F-score are ill-defined and being set to 0.0 in labels with no true samples. Use `zero_division` parameter to control this behavior.\n",
      "  _warn_prf(average, modifier, msg_start, len(result))\n"
     ]
    }
   ],
   "source": [
    "dict6 = classification_report( y_test_zbw, y_pred_zbw_svc, output_dict=True )\n",
    "\n",
    "with open( '../data/json/report_svc_7_examples_zbw.json', 'w' ) as f:\n",
    "    json.dump( dict6, f, indent=4 )"
   ]
  },
  {
   "cell_type": "code",
   "execution_count": null,
   "id": "98122ee9-1b25-4f2d-ac07-421766ee17d5",
   "metadata": {},
   "outputs": [],
   "source": []
  }
 ],
 "metadata": {
  "kernelspec": {
   "display_name": "Python 3 (ipykernel)",
   "language": "python",
   "name": "python3"
  },
  "language_info": {
   "codemirror_mode": {
    "name": "ipython",
    "version": 3
   },
   "file_extension": ".py",
   "mimetype": "text/x-python",
   "name": "python",
   "nbconvert_exporter": "python",
   "pygments_lexer": "ipython3",
   "version": "3.11.5"
  }
 },
 "nbformat": 4,
 "nbformat_minor": 5
}
